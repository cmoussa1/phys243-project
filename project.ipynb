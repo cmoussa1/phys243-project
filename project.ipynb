{
 "cells": [
  {
   "cell_type": "markdown",
   "id": "e9b18085-df28-4e3a-a1c2-4feb085fce9b",
   "metadata": {},
   "source": [
    "## House Improvement ROI Prediction Model\n",
    "\n",
    "#### Group 4\n",
    "#### James Siefert, Liam Hsieh, Panawannage Fernando, and Christopher Moussa"
   ]
  },
  {
   "cell_type": "markdown",
   "id": "54bfb880-aa6f-4e95-850f-da851e5db8e3",
   "metadata": {},
   "source": [
    "The module below provides a convenience function which calculates how much it would cost to add a second story to a home. It is based off of data from a [2023 article](https://www.angi.com/articles/cost-add-second-story.htm) written by Ginny Bartolone and reviewed by Rober Tschudi."
   ]
  },
  {
   "cell_type": "code",
   "execution_count": 72,
   "id": "52b24963-b182-48f0-a146-9ca463138e18",
   "metadata": {},
   "outputs": [],
   "source": [
    "def add_second_story(sq_feet, details=False):\n",
    "    if (sq_feet <= 0):\n",
    "        raise ValueError(\"square footage must be a positive value\")\n",
    "\n",
    "    # the following breaks down how much each component\n",
    "    # makes up for the total cost of the second story (per square foot)\n",
    "    components = {\n",
    "        \"siding\": 7.50,\n",
    "        \"framing\": 4.50,\n",
    "        \"roofing\": 32.50,\n",
    "        \"drywall\": 0.53,\n",
    "        \"insulation\": 2.80,\n",
    "        \"flooring\": 7.80,\n",
    "        \"plumbing\": 4.50,\n",
    "        \"staircase\": 75.00,\n",
    "        \"painting\": .11,\n",
    "        \"hvac\": 42.50,\n",
    "        \"lumber\": 3.00,\n",
    "        \"electrical_wiring\": 7.00   \n",
    "    }\n",
    "\n",
    "    # windows and doors are measured by their entirety instead of by\n",
    "    # square footage\n",
    "    per_window_cost = 400\n",
    "    per_door_cost = 270\n",
    "\n",
    "    # estimate about one window and one door per 500 square feet\n",
    "    num_windows = num_doors = int(sq_feet / 500)\n",
    "\n",
    "    # sum the cost of adding windows and doors\n",
    "    windows = (num_windows * per_window_cost)\n",
    "    doors = (num_doors * per_door_cost)\n",
    "\n",
    "    # sum the cost of each component according to the square footage\n",
    "    total_component_cost = 0\n",
    "    for key,value in components.items():\n",
    "        total_component_cost += (value * sq_feet)\n",
    "\n",
    "    # building permits cost around $1600 on average\n",
    "    building_permit = 1600\n",
    "\n",
    "    # estimate labor costs: here, we project that labor costs around 17.5%\n",
    "    # of the total project cost\n",
    "    labor = (total_component_cost + windows + doors + building_permit) * .175\n",
    "\n",
    "    total_cost = total_component_cost + windows + doors + building_permit + labor\n",
    "\n",
    "    print(f\"the cost of adding a {sq_feet} square foot second story would cost around ${total_cost:.0f}.\")\n",
    "\n",
    "    if (details):\n",
    "        # output a detailed breakdown of the total cost\n",
    "        print(f\"cost breakdown:\")\n",
    "        print(\"---------------\")\n",
    "        for key,value in components.items():\n",
    "            print(f\"{key}: ${(value * sq_feet):.2f}\")\n",
    "\n",
    "        print()\n",
    "        print(f\"number of windows ({num_windows}): ${windows:.2f}\")\n",
    "        print(f\"number of doors ({num_doors}): ${doors:.2f}\")\n",
    "\n",
    "        print()\n",
    "        print(f\"total labor cost: ${labor:.2f}\")\n",
    "\n",
    "        print()\n",
    "        print(f\"building permit cost: ${building_permit:.2f}\")\n",
    "\n",
    "    return total_cost\n"
   ]
  },
  {
   "cell_type": "markdown",
   "id": "604847bb-c5af-465b-a6ba-8062efec3716",
   "metadata": {},
   "source": [
    "Below are a couple of simple test cases that demonstrate calling this function:"
   ]
  },
  {
   "cell_type": "code",
   "execution_count": 73,
   "id": "a5bb61fd-3f5d-4e9b-8cca-da86b0ef760c",
   "metadata": {},
   "outputs": [
    {
     "name": "stdout",
     "output_type": "stream",
     "text": [
      "the cost of adding a 800 square foot second story would cost around $179143.\n",
      "\n",
      "the cost of adding a 900 square foot second story would cost around $201202.\n",
      "\n",
      "the cost of adding a 1000 square foot second story would cost around $224049.\n",
      "cost breakdown:\n",
      "---------------\n",
      "siding: $7500.00\n",
      "framing: $4500.00\n",
      "roofing: $32500.00\n",
      "drywall: $530.00\n",
      "insulation: $2800.00\n",
      "flooring: $7800.00\n",
      "plumbing: $4500.00\n",
      "staircase: $75000.00\n",
      "painting: $110.00\n",
      "hvac: $42500.00\n",
      "lumber: $3000.00\n",
      "electrical_wiring: $7000.00\n",
      "\n",
      "number of windows (2): $800.00\n",
      "number of doors (2): $540.00\n",
      "\n",
      "total labor cost: $33369.00\n",
      "\n",
      "building permit cost: $1600.00\n",
      "\n"
     ]
    }
   ],
   "source": [
    "sq_footage = [800, 900, 1000]\n",
    "\n",
    "second_story_cost = add_second_story(sq_footage[0])\n",
    "print()\n",
    "\n",
    "second_story_cost = add_second_story(sq_footage[1])\n",
    "print()\n",
    "\n",
    "second_story_cost = add_second_story(sq_footage[2], details=True)\n",
    "print()"
   ]
  },
  {
   "cell_type": "markdown",
   "id": "3ace5016-93e1-41a1-89c8-3b678a2ef65d",
   "metadata": {},
   "source": [
    "This next module provides a convenience function which calculates how much it would cost to add a bedroom to a home. It is based off of data from a [2023 article](https://www.angi.com/articles/cost-to-add-a-bedroom.htm) written by Dan Simms."
   ]
  },
  {
   "cell_type": "code",
   "execution_count": 74,
   "id": "e9f0463d-99cf-42db-9e61-bbdf1a01afb4",
   "metadata": {},
   "outputs": [],
   "source": [
    "def print_details(sq_feet, components, windows, labor, building_permit, furnishing):\n",
    "        # output a detailed breakdown of the total cost\n",
    "        print(f\"cost breakdown:\")\n",
    "        print(\"---------------\")\n",
    "        for key,value in components.items():\n",
    "            print(f\"{key}: ${(value * sq_feet):.2f}\")\n",
    "\n",
    "        print(f\"\\nwindow(s) cost: ${windows:.2f}\")\n",
    "\n",
    "        print(f\"\\ntotal labor cost: ${labor:.2f}\")\n",
    "\n",
    "        print(f\"\\nbuilding permit cost: ${building_permit:.2f}\")\n",
    "\n",
    "        print(f\"\\nfurnishing cost: ${furnishing:.2f}\")  \n",
    "\n",
    "\n",
    "def add_bedroom(sq_feet, details=False):\n",
    "    if (sq_feet <= 0):\n",
    "        raise ValueError(\"square footage must be a positive value\")\n",
    "\n",
    "    components = {\n",
    "        \"drywall\": 2.00,\n",
    "        \"insulation\": 2.80,\n",
    "        \"flooring\": 3.70,\n",
    "        \"storage\": 11.50,\n",
    "        \"painting\": 3.50,\n",
    "        \"drywall\": 2.00,\n",
    "        \"hvac\": 45.00,\n",
    "        \"electrical_wiring\": 4.00,\n",
    "    }\n",
    "\n",
    "    # sum the cost of each component according to the square footage\n",
    "    total_component_cost = 0\n",
    "    for key,value in components.items():\n",
    "        total_component_cost += (value * sq_feet)\n",
    "\n",
    "    # windows are measured by their entirety instead of by square footage;\n",
    "    # estimate about one window per 500 square feet\n",
    "    per_window_cost = 400\n",
    "    num_windows = num_doors = int(sq_feet / 500)\n",
    "\n",
    "    # sum the cost of adding windows\n",
    "    windows = (num_windows * per_window_cost)\n",
    "\n",
    "    # here we assume just one door per bedroom\n",
    "    doors = 270\n",
    "\n",
    "    # the average cost of furnishing a bedroom according to the article\n",
    "    # ranges between $3,000 and $10,000; here, we take the average of the\n",
    "    # two boundaries and create a simple linear function for calculating\n",
    "    # the cost of furnishing at about $10/sq foot\n",
    "    furnishing = 10 * sq_feet\n",
    "\n",
    "    # building permits cost around $1600 on average\n",
    "    building_permit = 1600\n",
    "\n",
    "    # estimate labor costs: here, we project that labor costs around 40%\n",
    "    # of the total project cost (excluding furnishing)\n",
    "    labor = (total_component_cost + windows + building_permit) * .40\n",
    "\n",
    "    total_cost = total_component_cost + windows + doors + building_permit + labor + furnishing\n",
    "\n",
    "    print(f\"the cost of adding a {sq_feet} square foot bedroom would cost around ${total_cost:.0f}.\")\n",
    "\n",
    "    if (details):\n",
    "        print_details(sq_feet,\n",
    "                      components,\n",
    "                      windows,\n",
    "                      labor,\n",
    "                      building_permit,\n",
    "                      furnishing)\n",
    "\n",
    "    return total_cost\n"
   ]
  },
  {
   "cell_type": "markdown",
   "id": "404de980-898b-4199-a82e-b2f87ea966f6",
   "metadata": {},
   "source": [
    "Below are a couple examples of running the `add_bedroom()` function with a couple of different square feet values."
   ]
  },
  {
   "cell_type": "code",
   "execution_count": 75,
   "id": "e3953c18-cf81-46a6-a18b-43464b68109d",
   "metadata": {},
   "outputs": [
    {
     "name": "stdout",
     "output_type": "stream",
     "text": [
      "the cost of adding a 800 square foot bedroom would cost around $92270.\n",
      "cost breakdown:\n",
      "---------------\n",
      "drywall: $1600.00\n",
      "insulation: $2240.00\n",
      "flooring: $2960.00\n",
      "storage: $9200.00\n",
      "painting: $2800.00\n",
      "hvac: $36000.00\n",
      "electrical_wiring: $3200.00\n",
      "\n",
      "window(s) cost: $400.00\n",
      "\n",
      "total labor cost: $24000.00\n",
      "\n",
      "building permit cost: $1600.00\n",
      "\n",
      "furnishing cost: $8000.00\n",
      "\n",
      "\n",
      "\n",
      "the cost of adding a 900 square foot bedroom would cost around $103420.\n",
      "cost breakdown:\n",
      "---------------\n",
      "drywall: $1800.00\n",
      "insulation: $2520.00\n",
      "flooring: $3330.00\n",
      "storage: $10350.00\n",
      "painting: $3150.00\n",
      "hvac: $40500.00\n",
      "electrical_wiring: $3600.00\n",
      "\n",
      "window(s) cost: $400.00\n",
      "\n",
      "total labor cost: $26900.00\n",
      "\n",
      "building permit cost: $1600.00\n",
      "\n",
      "furnishing cost: $9000.00\n",
      "\n",
      "\n",
      "\n",
      "the cost of adding a 1000 square foot bedroom would cost around $115130.\n",
      "cost breakdown:\n",
      "---------------\n",
      "drywall: $2000.00\n",
      "insulation: $2800.00\n",
      "flooring: $3700.00\n",
      "storage: $11500.00\n",
      "painting: $3500.00\n",
      "hvac: $45000.00\n",
      "electrical_wiring: $4000.00\n",
      "\n",
      "window(s) cost: $800.00\n",
      "\n",
      "total labor cost: $29960.00\n",
      "\n",
      "building permit cost: $1600.00\n",
      "\n",
      "furnishing cost: $10000.00\n",
      "\n",
      "\n",
      "\n"
     ]
    }
   ],
   "source": [
    "sq_footage = [800, 900, 1000]\n",
    "\n",
    "for _ in sq_footage:\n",
    "    bedroom_cost = add_bedroom(_, details=True)\n",
    "    print(\"\\n\\n\")"
   ]
  },
  {
   "cell_type": "markdown",
   "id": "9c175ed8-6559-4e1a-82f6-8f5dd473fd43",
   "metadata": {},
   "source": [
    "This next module provides a convenience function which calculates how much it would cost to add a bathroom to a home. It is based off of data from a [2023 article](https://www.angi.com/articles/how-much-does-it-cost-add-bathroom.htm) written by Bry'Ana Arvie."
   ]
  },
  {
   "cell_type": "code",
   "execution_count": 76,
   "id": "9bb42440-16c0-4666-a304-68285665835e",
   "metadata": {},
   "outputs": [],
   "source": [
    "def print_details(total_component_cost, labor, building_permit):\n",
    "        # output a detailed breakdown of the total cost\n",
    "        print(f\"cost breakdown:\")\n",
    "        print(\"---------------\")\n",
    "        print(f\"\\ntotal component cost: ${total_component_cost:.2f}\")\n",
    "\n",
    "        print(f\"\\ntotal labor cost: ${labor:.2f}\")\n",
    "\n",
    "        print(f\"\\nbuilding permit cost: ${building_permit:.2f}\")\n",
    "\n",
    "\n",
    "def add_bathroom(details=False):\n",
    "    components = {\n",
    "        \"plumbing\": 5500,\n",
    "        \"electrical\": 1500,\n",
    "        \"shower\": 4150,\n",
    "        \"shower liner\": 3500,\n",
    "        \"shower door\": 950,\n",
    "        \"faucet\": 250,\n",
    "        \"bathtub\": 3500,\n",
    "        \"toilet\": 375,\n",
    "        \"drywall\": 1750,\n",
    "        \"tiling\": 1900,\n",
    "        \"vanity\": 2150,\n",
    "        \"light fixures\": 525,\n",
    "        \"towel racks\": 60,\n",
    "    }\n",
    "\n",
    "    # sum the cost of each component according to the square footage\n",
    "    total_component_cost = 0\n",
    "    for key,value in components.items():\n",
    "        total_component_cost += (value)\n",
    "\n",
    "    # building permits cost around $1025 on average\n",
    "    building_permit = 1025\n",
    "\n",
    "    # estimate labor costs: here, we project that labor costs around 50%\n",
    "    # of the components cost\n",
    "    labor = (total_component_cost) * .50\n",
    "\n",
    "    total_cost = total_component_cost + building_permit + labor\n",
    "\n",
    "    print(f\"the cost of adding a bathroom would cost around ${total_cost:.0f}.\")\n",
    "\n",
    "    if (details):\n",
    "        print_details(total_component_cost, labor, building_permit)\n",
    "\n",
    "    return total_cost\n"
   ]
  },
  {
   "cell_type": "markdown",
   "id": "a92188f4-8834-4a81-9529-b147e375c908",
   "metadata": {},
   "source": [
    "Below is an example of running the `add_bathroom()` function."
   ]
  },
  {
   "cell_type": "code",
   "execution_count": 77,
   "id": "286a57a3-6eaf-4816-b3bf-49f4bacaf557",
   "metadata": {
    "scrolled": true
   },
   "outputs": [
    {
     "name": "stdout",
     "output_type": "stream",
     "text": [
      "the cost of adding a bathroom would cost around $40190.\n",
      "\n",
      "\n",
      "\n",
      "the cost of adding a bathroom would cost around $40190.\n",
      "cost breakdown:\n",
      "---------------\n",
      "\n",
      "total component cost: $26110.00\n",
      "\n",
      "total labor cost: $13055.00\n",
      "\n",
      "building permit cost: $1025.00\n"
     ]
    }
   ],
   "source": [
    "bathroom_cost = add_bathroom()\n",
    "print(\"\\n\\n\")\n",
    "bathroom_cost = add_bathroom(details=True)"
   ]
  },
  {
   "cell_type": "markdown",
   "id": "e8a4c492",
   "metadata": {},
   "source": [
    "# Web App Demo\n",
    "\n",
    "**should Run Flask App in terminal first**  \n",
    "```\n",
    "python ./web_app/web_app.py\n",
    "```"
   ]
  },
  {
   "cell_type": "code",
   "execution_count": 34,
   "id": "c32b97fc",
   "metadata": {
    "scrolled": false
   },
   "outputs": [
    {
     "data": {
      "text/html": [
       "<iframe src=\"http://127.0.0.1:5000\" width=\"800\" height=\"600\"></iframe>"
      ],
      "text/plain": [
       "<IPython.core.display.HTML object>"
      ]
     },
     "execution_count": 34,
     "metadata": {},
     "output_type": "execute_result"
    }
   ],
   "source": [
    "from IPython.display import HTML\n",
    "\n",
    "iframe_html = f'<iframe src=\"http://127.0.0.1:5000\" width=\"800\" height=\"600\"></iframe>'\n",
    "HTML(iframe_html)"
   ]
  },
  {
   "cell_type": "code",
   "execution_count": 40,
   "id": "a26f417d",
   "metadata": {
    "scrolled": true
   },
   "outputs": [
    {
     "data": {
      "text/html": [
       "<img src=\"./web_app_pic.png\"/>"
      ],
      "text/plain": [
       "<IPython.core.display.Image object>"
      ]
     },
     "execution_count": 40,
     "metadata": {},
     "output_type": "execute_result"
    }
   ],
   "source": [
    "from IPython.display import Image\n",
    "\n",
    "image_url = './web_app_pic.png'\n",
    "\n",
    "Image(url=image_url)"
   ]
  },
  {
   "cell_type": "code",
   "execution_count": null,
   "id": "b6d805a2",
   "metadata": {},
   "outputs": [],
   "source": []
  }
 ],
 "metadata": {
  "kernelspec": {
   "display_name": "Python 3 (ipykernel)",
   "language": "python",
   "name": "python3"
  },
  "language_info": {
   "codemirror_mode": {
    "name": "ipython",
    "version": 3
   },
   "file_extension": ".py",
   "mimetype": "text/x-python",
   "name": "python",
   "nbconvert_exporter": "python",
   "pygments_lexer": "ipython3",
   "version": "3.10.9"
  }
 },
 "nbformat": 4,
 "nbformat_minor": 5
}
