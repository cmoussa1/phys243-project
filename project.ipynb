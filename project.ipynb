{
 "cells": [
  {
   "cell_type": "markdown",
   "id": "e9b18085-df28-4e3a-a1c2-4feb085fce9b",
   "metadata": {},
   "source": [
    "## House Improvement ROI Prediction Model\n",
    "\n",
    "#### Group 4\n",
    "#### James Siefert, Liam Hsieh, Panawannage Fernando, and Christopher Moussa"
   ]
  }
 ],
 "metadata": {
  "kernelspec": {
   "display_name": "Python 3 (ipykernel)",
   "language": "python",
   "name": "python3"
  },
  "language_info": {
   "codemirror_mode": {
    "name": "ipython",
    "version": 3
   },
   "file_extension": ".py",
   "mimetype": "text/x-python",
   "name": "python",
   "nbconvert_exporter": "python",
   "pygments_lexer": "ipython3",
   "version": "3.8.10"
  }
 },
 "nbformat": 4,
 "nbformat_minor": 5
}
