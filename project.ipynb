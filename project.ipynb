{
 "cells": [
  {
   "cell_type": "markdown",
   "id": "e9b18085-df28-4e3a-a1c2-4feb085fce9b",
   "metadata": {},
   "source": [
    "## House Improvement ROI Prediction Model\n",
    "\n",
    "#### Group 4\n",
    "#### James Siefert, Liam Hsieh, Panawannage Fernando, and Christopher Moussa"
   ]
  },
  {
   "cell_type": "markdown",
   "id": "54bfb880-aa6f-4e95-850f-da851e5db8e3",
   "metadata": {},
   "source": [
    "The module below provides a convenience function which calculates how much it would cost to add a second story to a home. It is based off of data from a [2023 article](https://www.angi.com/articles/cost-add-second-story.htm) written by Ginny Bartolone and reviewed by Rober Tschudi."
   ]
  },
  {
   "cell_type": "code",
   "execution_count": 78,
   "id": "52b24963-b182-48f0-a146-9ca463138e18",
   "metadata": {},
   "outputs": [],
   "source": [
    "def add_second_story(sq_feet, details=False):\n",
    "    if (sq_feet <= 0):\n",
    "        raise ValueError(\"square footage must be a positive value\")\n",
    "\n",
    "    # the following breaks down how much each component\n",
    "    # makes up for the total cost of the second story (per square foot)\n",
    "    components = {\n",
    "        \"sliding\": 7.50,\n",
    "        \"framing\": 4.50,\n",
    "        \"roofing\": 32.50,\n",
    "        \"drywall\": 0.53,\n",
    "        \"insulation\": 2.80,\n",
    "        \"flooring\": 7.80,\n",
    "        \"plumbing\": 4.50,\n",
    "        \"staircase\": 75.00,\n",
    "        \"painting\": .11,\n",
    "        \"hvac\": 42.50,\n",
    "        \"lumber\": 3.00,\n",
    "        \"electrical_wiring\": 7.00   \n",
    "    }\n",
    "\n",
    "    # windows and doors are measured by their entirety instead of by\n",
    "    # square footage\n",
    "    per_window_cost = 400\n",
    "    per_door_cost = 270\n",
    "\n",
    "    # estimate about one window and one door per 500 square feet\n",
    "    num_windows = num_doors = int(sq_feet / 500)\n",
    "\n",
    "    # sum the cost of adding windows and doors\n",
    "    windows = (num_windows * per_window_cost)\n",
    "    doors = (num_doors * per_door_cost)\n",
    "\n",
    "    # sum the cost of each component according to the square footage\n",
    "    total_component_cost = 0\n",
    "    for key,value in components.items():\n",
    "        total_component_cost += (value * sq_feet)\n",
    "\n",
    "    # building permits cost around $1600 on average\n",
    "    building_permit = 1600\n",
    "\n",
    "    # estimate labor costs: here, we project that labor costs around 17.5%\n",
    "    # of the total project cost\n",
    "    labor = (total_component_cost + windows + doors + building_permit) * .175\n",
    "\n",
    "    total_cost = total_component_cost + windows + doors + building_permit + labor\n",
    "\n",
    "    print(f\"the cost of adding a {sq_feet} square foot second story would cost around ${total_cost:.0f}.\")\n",
    "\n",
    "    if (details):\n",
    "        # output a detailed breakdown of the total cost\n",
    "        print(f\"cost breakdown:\")\n",
    "        print(\"---------------\")\n",
    "        for key,value in components.items():\n",
    "            print(f\"{key}: ${(value * sq_feet):.2f}\")\n",
    "\n",
    "        print()\n",
    "        print(f\"number of windows ({num_windows}): ${windows:.2f}\")\n",
    "        print(f\"number of doors ({num_doors}): ${doors:.2f}\")\n",
    "\n",
    "        print()\n",
    "        print(f\"total labor cost: ${labor:.2f}\")\n",
    "\n",
    "        print()\n",
    "        print(f\"building permit cost: ${building_permit:.2f}\")\n",
    "\n",
    "    return total_cost\n"
   ]
  },
  {
   "cell_type": "markdown",
   "id": "604847bb-c5af-465b-a6ba-8062efec3716",
   "metadata": {},
   "source": [
    "Below are a couple of simple test cases that demonstrate calling this function:"
   ]
  },
  {
   "cell_type": "code",
   "execution_count": 79,
   "id": "a5bb61fd-3f5d-4e9b-8cca-da86b0ef760c",
   "metadata": {},
   "outputs": [
    {
     "name": "stdout",
     "output_type": "stream",
     "text": [
      "the cost of adding a 800 square foot second story would cost around $179143.\n",
      "\n",
      "the cost of adding a 900 square foot second story would cost around $201202.\n",
      "\n",
      "the cost of adding a 1000 square foot second story would cost around $224049.\n",
      "cost breakdown:\n",
      "---------------\n",
      "sliding: $7500.00\n",
      "framing: $4500.00\n",
      "roofing: $32500.00\n",
      "drywall: $530.00\n",
      "insulation: $2800.00\n",
      "flooring: $7800.00\n",
      "plumbing: $4500.00\n",
      "staircase: $75000.00\n",
      "painting: $110.00\n",
      "hvac: $42500.00\n",
      "lumber: $3000.00\n",
      "electrical_wiring: $7000.00\n",
      "\n",
      "number of windows (2): $800.00\n",
      "number of doors (2): $540.00\n",
      "\n",
      "total labor cost: $33369.00\n",
      "\n",
      "building permit cost: $1600.00\n",
      "\n"
     ]
    }
   ],
   "source": [
    "sq_footage = [800, 900, 1000]\n",
    "\n",
    "second_story_cost = add_second_story(sq_footage[0])\n",
    "print()\n",
    "\n",
    "second_story_cost = add_second_story(sq_footage[1])\n",
    "print()\n",
    "\n",
    "second_story_cost = add_second_story(sq_footage[2], details=True)\n",
    "print()"
   ]
  }
 ],
 "metadata": {
  "kernelspec": {
   "display_name": "Python 3 (ipykernel)",
   "language": "python",
   "name": "python3"
  },
  "language_info": {
   "codemirror_mode": {
    "name": "ipython",
    "version": 3
   },
   "file_extension": ".py",
   "mimetype": "text/x-python",
   "name": "python",
   "nbconvert_exporter": "python",
   "pygments_lexer": "ipython3",
   "version": "3.8.10"
  }
 },
 "nbformat": 4,
 "nbformat_minor": 5
}
